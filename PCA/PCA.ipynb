{
 "cells": [
  {
   "cell_type": "code",
   "execution_count": 1,
   "metadata": {},
   "outputs": [],
   "source": [
    "import numpy as np\n",
    "import matplotlib.pyplot as plt\n",
    "import random"
   ]
  },
  {
   "cell_type": "code",
   "execution_count": 3,
   "metadata": {},
   "outputs": [],
   "source": [
    "data = np.loadtxt('airfoil_self_noise.dat')\n",
    "epsilon = 0.001"
   ]
  },
  {
   "cell_type": "code",
   "execution_count": null,
   "metadata": {},
   "outputs": [],
   "source": []
  },
  {
   "cell_type": "code",
   "execution_count": 4,
   "metadata": {},
   "outputs": [],
   "source": [
    "def mean (data):\n",
    "    mean = []\n",
    "    d = len(data[0])\n",
    "    n = len(data)\n",
    "    \n",
    "    for i in range(d):\n",
    "        mean.append( np.sum(data[:,i]) / n )\n",
    "\n",
    "    return np.array(mean)"
   ]
  },
  {
   "cell_type": "code",
   "execution_count": 4,
   "metadata": {},
   "outputs": [
    {
     "name": "stdout",
     "output_type": "stream",
     "text": [
      "[2.88638057e+03 6.78230206e+00 1.36548237e-01 5.08607452e+01\n",
      " 1.11398804e-02 1.24835943e+02]\n"
     ]
    }
   ],
   "source": [
    "mean = mean(data)\n",
    "print(mean)"
   ]
  },
  {
   "cell_type": "code",
   "execution_count": 5,
   "metadata": {},
   "outputs": [],
   "source": [
    "def var (data, mean):\n",
    "    mean_norm = np.linalg.norm(mean)\n",
    "    var = 0\n",
    "    d = len(data[0])\n",
    "    n = len(data)\n",
    "    \n",
    "    for i in range(n):\n",
    "        var = var + np.linalg.norm(data[i,:])**2\n",
    "    \n",
    "    var = (var/n) - mean_norm**2\n",
    "    return var\n",
    "    "
   ]
  },
  {
   "cell_type": "code",
   "execution_count": 6,
   "metadata": {},
   "outputs": [
    {
     "name": "stdout",
     "output_type": "stream",
     "text": [
      "9932429.717196018\n"
     ]
    }
   ],
   "source": [
    "var = var(data, mean)\n",
    "print(var)"
   ]
  },
  {
   "cell_type": "code",
   "execution_count": 7,
   "metadata": {},
   "outputs": [],
   "source": [
    "def covarInner(data, mean):\n",
    "    d = len(data[0])\n",
    "    n = len(data)\n",
    "    one = np.matrix(np.ones(n))\n",
    "    one = one.transpose()\n",
    "    Z = data - np.matmul(one, np.matrix(mean))\n",
    "    covar = (1/n) * np.matmul(Z.transpose(), Z)\n",
    "    return covar\n",
    "    "
   ]
  },
  {
   "cell_type": "code",
   "execution_count": 8,
   "metadata": {},
   "outputs": [
    {
     "name": "stdout",
     "output_type": "stream",
     "text": [
      "[[ 9.93210480e+06 -5.08567251e+03 -1.07878216e+00  6.55777176e+03\n",
      "  -9.53323084e+00 -8.49174115e+03]\n",
      " [-5.08567251e+03  3.50009376e+01 -2.79301994e-01  5.41178032e+00\n",
      "   5.85936885e-02 -6.36918252e+00]\n",
      " [-1.07878216e+00 -2.79301994e-01  8.74404626e-03  5.51227277e-03\n",
      "  -2.71473666e-04 -1.52294896e-01]\n",
      " [ 6.55777176e+03  5.41178032e+00  5.51227277e-03  2.42350262e+02\n",
      "  -8.13279857e-04  1.34310135e+01]\n",
      " [-9.53323084e+00  5.85936885e-02 -2.71473666e-04 -8.13279857e-04\n",
      "   1.72813606e-04 -2.83461772e-02]\n",
      " [-8.49174115e+03 -6.36918252e+00 -1.52294896e-01  1.34310135e+01\n",
      "  -2.83461772e-02  4.75597989e+01]]\n"
     ]
    }
   ],
   "source": [
    "sigmaInner = covarInner(data, mean)\n",
    "print(sigmaInner)"
   ]
  },
  {
   "cell_type": "code",
   "execution_count": 9,
   "metadata": {},
   "outputs": [],
   "source": [
    "def covarOuter(data, mean):\n",
    "    d = len(data[0])\n",
    "    n = len(data)\n",
    "    one = np.matrix(np.ones(n))\n",
    "    one = one.transpose()\n",
    "    Z = data - np.matmul(one, np.matrix(mean))\n",
    "    covar = np.matrix()\n",
    "    for i in range (n):\n",
    "        covar = covar + np.matmul(Z[i,:], Z[i,:].transpose())\n",
    "        \n",
    "    covar = (1/n)*covar\n",
    "    return covar"
   ]
  },
  {
   "cell_type": "code",
   "execution_count": 10,
   "metadata": {},
   "outputs": [
    {
     "name": "stdout",
     "output_type": "stream",
     "text": [
      "[[ 9.93210480e+06 -5.08567251e+03 -1.07878216e+00  6.55777176e+03\n",
      "  -9.53323084e+00 -8.49174115e+03]\n",
      " [-5.08567251e+03  3.50009376e+01 -2.79301994e-01  5.41178032e+00\n",
      "   5.85936885e-02 -6.36918252e+00]\n",
      " [-1.07878216e+00 -2.79301994e-01  8.74404626e-03  5.51227277e-03\n",
      "  -2.71473666e-04 -1.52294896e-01]\n",
      " [ 6.55777176e+03  5.41178032e+00  5.51227277e-03  2.42350262e+02\n",
      "  -8.13279857e-04  1.34310135e+01]\n",
      " [-9.53323084e+00  5.85936885e-02 -2.71473666e-04 -8.13279857e-04\n",
      "   1.72813606e-04 -2.83461772e-02]\n",
      " [-8.49174115e+03 -6.36918252e+00 -1.52294896e-01  1.34310135e+01\n",
      "  -2.83461772e-02  4.75597989e+01]]\n"
     ]
    }
   ],
   "source": [
    "sigmaOuter = covarInner(data, mean)\n",
    "print(sigmaOuter)"
   ]
  },
  {
   "cell_type": "code",
   "execution_count": 11,
   "metadata": {},
   "outputs": [],
   "source": [
    "def corr(data, mean):\n",
    "    d = len(data[0])\n",
    "    n = len(data)    \n",
    "    one = np.matrix(np.ones(n))\n",
    "    one = one.transpose()\n",
    "    Z = data - np.matmul(one, np.matrix(mean))\n",
    "    \n",
    "    corr_mat = [[0 for x in range(d)] for y in range(d)]\n",
    "    \n",
    "    for i in range(d):\n",
    "        for j in range(d):\n",
    "            if(i == j):\n",
    "                corr_mat[i][j] = 1\n",
    "            elif(corr_mat[i][j] != 0):\n",
    "                corr_mat[j][i] = 0\n",
    "            else:\n",
    "                Zi = np.array(Z[:,i])\n",
    "                Zj = np.array(Z[:,j])\n",
    "                dot_ij = np.matmul(Zi.transpose(), Zj)[0][0]\n",
    "\n",
    "                corr_mat[j][i] = dot_ij / (np.linalg.norm(Zi)*np.linalg.norm(Zj))\n",
    "    return np.matrix(corr_mat)"
   ]
  },
  {
   "cell_type": "code",
   "execution_count": 12,
   "metadata": {},
   "outputs": [
    {
     "data": {
      "text/plain": [
       "matrix([[ 1.        ,  0.        ,  0.        ,  0.        ,  0.        ,\n",
       "          0.        ],\n",
       "        [-0.27276454,  1.        ,  0.        ,  0.        ,  0.        ,\n",
       "          0.        ],\n",
       "        [-0.00366064, -0.50486815,  1.        ,  0.        ,  0.        ,\n",
       "          0.        ],\n",
       "        [ 0.13366383,  0.05875957,  0.00378663,  1.        ,  0.        ,\n",
       "          0.        ],\n",
       "        [-0.23010735,  0.75339378, -0.22084243, -0.00397401,  1.        ,\n",
       "          0.        ],\n",
       "        [-0.39071141, -0.15610753, -0.23616151,  0.1251028 , -0.31266951,\n",
       "          1.        ]])"
      ]
     },
     "execution_count": 12,
     "metadata": {},
     "output_type": "execute_result"
    }
   ],
   "source": [
    "corr(data, mean)"
   ]
  },
  {
   "cell_type": "code",
   "execution_count": 13,
   "metadata": {},
   "outputs": [
    {
     "data": {
      "image/png": "[encoded data removed]",
      "text/plain": [
       "<Figure size 432x288 with 1 Axes>"
      ]
     },
     "metadata": {
      "needs_background": "light"
     },
     "output_type": "display_data"
    }
   ],
   "source": [
    "#most correlated\n",
    "d = len(data[0])\n",
    "n = len(data)    \n",
    "one = np.array(np.ones(n))\n",
    "one = one.transpose()\n",
    "Z = data - np.matmul(one, np.matrix(mean))\n",
    "\n",
    "Z2 = np.array(Z[:, 1])\n",
    "Z5 = np.array(Z[:, 4])\n",
    "plt.scatter(Z2, Z5)\n",
    "plt.xlabel(\"Feature 2\")\n",
    "plt.ylabel(\"Feature 5\")\n",
    "plt.title(\"Most Positive Correlated\")\n",
    "plt.show()\n"
   ]
  },
  {
   "cell_type": "code",
   "execution_count": 14,
   "metadata": {},
   "outputs": [
    {
     "data": {
      "image/png": "[encoded data removed]",
      "text/plain": [
       "<Figure size 432x288 with 1 Axes>"
      ]
     },
     "metadata": {
      "needs_background": "light"
     },
     "output_type": "display_data"
    }
   ],
   "source": [
    "#least correlated\n",
    "Z1 = np.array(Z[:, 0])\n",
    "Z3 = np.array(Z[:, 2])\n",
    "plt.scatter(Z1, Z3)\n",
    "plt.xlabel(\"Feature 1\")\n",
    "plt.ylabel(\"Feature 3\")\n",
    "plt.title(\"Least Correlated\")\n",
    "plt.show()"
   ]
  },
  {
   "cell_type": "code",
   "execution_count": 15,
   "metadata": {},
   "outputs": [
    {
     "data": {
      "image/png": "[encoded data removed]",
      "text/plain": [
       "<Figure size 432x288 with 1 Axes>"
      ]
     },
     "metadata": {
      "needs_background": "light"
     },
     "output_type": "display_data"
    }
   ],
   "source": [
    "#negative correlated\n",
    "Z2 = np.array(Z[:, 1])\n",
    "Z3 = np.array(Z[:, 2])\n",
    "plt.scatter(Z2, Z3)\n",
    "plt.xlabel(\"Feature 2\")\n",
    "plt.ylabel(\"Feature 3\")\n",
    "plt.title(\"Most Anti-Correlated\")\n",
    "plt.show()"
   ]
  },
  {
   "cell_type": "code",
   "execution_count": 16,
   "metadata": {},
   "outputs": [],
   "source": [
    "def orth(x1, b, a):\n",
    "    dot_ba = np.array(np.matmul(b.transpose(), a))\n",
    "    dot_aa = np.array(np.matmul(a.transpose(), a))\n",
    "\n",
    "    newB = b - (dot_ba[0][0] / dot_aa[0][0]) * a\n",
    "    newB = np.array(newB)\n",
    "\n",
    "    \n",
    "    x1[:,1] = newB \n",
    "    return x1\n"
   ]
  },
  {
   "cell_type": "code",
   "execution_count": 26,
   "metadata": {},
   "outputs": [],
   "source": [
    "def norm(x1, b, a):\n",
    "    dot_bb = np.array(np.matmul(b.transpose(), b))\n",
    "    dot_aa = np.array(np.matmul(a.transpose(), a))\n",
    "    \n",
    "    x1[:,1] = x1[:,1] * (dot_bb[0][0]**-.5)\n",
    "    x1[:,0] = x1[:,0] * (dot_aa[0][0]**-.5)\n",
    "\n",
    "    return x1\n"
   ]
  },
  {
   "cell_type": "code",
   "execution_count": 38,
   "metadata": {},
   "outputs": [],
   "source": [
    "def powerIter(data, mean, epsilon):\n",
    "    \n",
    "    #covar matrix function\n",
    "    sigma = covarInner(data, mean)\n",
    "    \n",
    "    #init x0 with random values\n",
    "    d = len(data[0])\n",
    "    x0 = [[0 for x in range(d)] for y in range(2)]\n",
    "    for i in range(d):\n",
    "        x0[0][i] = random.random()\n",
    "        x0[1][i] = random.random()\n",
    "    x0 = np.matrix(x0).transpose()\n",
    "    x0 = norm(x0, x0[:,1], x0[:, 0])\n",
    "    x0 = orth(x0, x0[:,1], x0[:, 0])\n",
    "\n",
    "    \n",
    "    x1 = np.matmul(sigma, x0)\n",
    "    x1 = orth(x1, x1[:,1], x1[:, 0])\n",
    "    x1 = norm(x1, x1[:,1], x1[:, 0])\n",
    "    \n",
    "    \n",
    "    while(np.allclose(np.array(x0),np.array(x1),rtol=0, atol=epsilon) == False):\n",
    "        x0 = x1\n",
    "        x1 = np.matmul(sigma, x0)\n",
    "        x1 = orth(x1, x1[:,1], x1[:, 0])\n",
    "        x1 = norm(x1, x1[:,1], x1[:, 0])\n",
    "        \n",
    "    return x1\n",
    "\n"
   ]
  },
  {
   "cell_type": "code",
   "execution_count": 39,
   "metadata": {},
   "outputs": [
    {
     "name": "stdout",
     "output_type": "stream",
     "text": [
      "[[ 9.99999285e-01 -5.58693682e-04]\n",
      " [-5.12043581e-04  3.73396379e-02]\n",
      " [-1.08587556e-07 -7.66225672e-05]\n",
      " [ 6.60273285e-04  9.95003883e-01]\n",
      " [-9.59838514e-07  1.72219049e-05]\n",
      " [-8.54980053e-04  9.25889084e-02]]\n"
     ]
    }
   ],
   "source": [
    "twoEig = powerIter(data, mean, epsilon)\n",
    "print(twoEig)"
   ]
  },
  {
   "cell_type": "code",
   "execution_count": 87,
   "metadata": {},
   "outputs": [],
   "source": [
    "def projection(twoEig, data):\n",
    "    n = len(data)\n",
    "    firstEig = np.matrix(twoEig[:,0])\n",
    "    secondEig = np.matrix(twoEig[:,1])\n",
    "    x = []\n",
    "    y = []\n",
    "    \n",
    "    for i in range(n):\n",
    "        xi = np.matrix(data[i,:])\n",
    "        firstproj = np.array(np.matmul(xi, firstEig))[0][0] / 1\n",
    "        secondproj = np.array(np.matmul(xi, secondEig))[0][0] / 1\n",
    "        x.append(firstproj)\n",
    "        y.append(secondproj)\n",
    "\n",
    "    return x, y"
   ]
  },
  {
   "cell_type": "code",
   "execution_count": 88,
   "metadata": {},
   "outputs": [
    {
     "data": {
      "image/png": "[encoded data removed]",
      "text/plain": [
       "<Figure size 432x288 with 1 Axes>"
      ]
     },
     "metadata": {
      "needs_background": "light"
     },
     "output_type": "display_data"
    }
   ],
   "source": [
    "x, y = projection(twoEig, data)\n",
    "plt.scatter(x, y)\n",
    "plt.xlabel(\"u1\")\n",
    "plt.ylabel(\"u2\")\n",
    "plt.title(\"New Axis\")\n",
    "plt.show()"
   ]
  },
  {
   "cell_type": "code",
   "execution_count": null,
   "metadata": {},
   "outputs": [],
   "source": []
  }
 ],
 "metadata": {
  "kernelspec": {
   "display_name": "Python 3",
   "language": "python",
   "name": "python3"
  },
  "language_info": {
   "codemirror_mode": {
    "name": "ipython",
    "version": 3
   },
   "file_extension": ".py",
   "mimetype": "text/x-python",
   "name": "python",
   "nbconvert_exporter": "python",
   "pygments_lexer": "ipython3",
   "version": "3.7.0"
  }
 },
 "nbformat": 4,
 "nbformat_minor": 2
}
