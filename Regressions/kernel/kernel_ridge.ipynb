{
 "cells": [
  {
   "cell_type": "markdown",
   "metadata": {},
   "source": [
    "## Kernel Ridge Regression"
   ]
  },
  {
   "cell_type": "code",
   "execution_count": 1,
   "metadata": {},
   "outputs": [],
   "source": [
    "import sys\n",
    "import numpy as np\n",
    "import math\n",
    "import matplotlib.pyplot as plt\n",
    "import random"
   ]
  },
  {
   "cell_type": "markdown",
   "metadata": {},
   "source": [
    "## Linear Kernel\n",
    "\n",
    "Calculates the dot product of all pairwise points ($\\phi_i$) in dataset D and returns that matrix\n",
    "\n",
    "$$K_{i,j} = K(\\phi_i, \\phi_j) $$\n",
    "\n",
    "\n",
    "$$K(\\phi_i, \\phi_j) = \\phi_{i}^T \\cdot \\phi_j$$"
   ]
  },
  {
   "cell_type": "code",
   "execution_count": 2,
   "metadata": {},
   "outputs": [],
   "source": [
    "def linearKernel(D):\n",
    "    n = len(D)\n",
    "    K = np.zeros((n, n))\n",
    "    \n",
    "    for i in range (n):\n",
    "        for j in range (n):\n",
    "            x = D[i,:]\n",
    "            y = D[j,:]\n",
    "            K[i][j] = np.dot(x,y)\n",
    "            \n",
    "    return K"
   ]
  },
  {
   "cell_type": "markdown",
   "metadata": {},
   "source": [
    "## \"Point \" Kernels"
   ]
  },
  {
   "cell_type": "markdown",
   "metadata": {},
   "source": [
    "Creates an (n x 1)-kernel matrix for a single test point, z, given a dataset D such that...\n",
    "\n",
    "$$K_i = K(z, \\phi_i)\\text{         ; where $\\phi_i$ $\\in$ D}$$\n",
    "\n"
   ]
  },
  {
   "cell_type": "code",
   "execution_count": 3,
   "metadata": {},
   "outputs": [],
   "source": [
    "def linearKernelpoint(D,z):\n",
    "    n = len(D)\n",
    "    K = np.zeros(n)\n",
    "    \n",
    "    for i in range(n):\n",
    "        x = D[i,:]\n",
    "        K[i] = np.dot(x, z)\n",
    "        \n",
    "    return np.array([K]).T\n"
   ]
  },
  {
   "cell_type": "markdown",
   "metadata": {},
   "source": [
    "## Inhomogenous Quadratic Kernel\n",
    "\n",
    "$$K_{i,j} = K(\\phi_i, \\phi_j) $$\n",
    "\n",
    "\n",
    "$$ K(\\phi_i, \\phi_j)  = (1 + \\phi_{i}^T \\cdot \\phi_j)^2$$"
   ]
  },
  {
   "cell_type": "code",
   "execution_count": 4,
   "metadata": {},
   "outputs": [],
   "source": [
    "def quadKernel(D):\n",
    "    n = len(D)\n",
    "    K = np.zeros((n, n))\n",
    "    \n",
    "    for i in range (n):\n",
    "        for j in range (n):\n",
    "            x = D[i,:]\n",
    "            y = D[j,:]\n",
    "            K[i][j] = (1 + np.dot(x,y))**2\n",
    "            \n",
    "    return K"
   ]
  },
  {
   "cell_type": "code",
   "execution_count": 5,
   "metadata": {},
   "outputs": [],
   "source": [
    "def quadKernelpoint(D,z):\n",
    "    n = len(D)\n",
    "    K = np.zeros(n)\n",
    "    \n",
    "    for i in range(n):\n",
    "        x = D[i,:]\n",
    "        K[i] = (1 + np.dot(x,z))**2\n",
    "        \n",
    "    return np.array([K]).T\n"
   ]
  },
  {
   "cell_type": "markdown",
   "metadata": {},
   "source": [
    "## Gaussian Kernel"
   ]
  },
  {
   "cell_type": "markdown",
   "metadata": {},
   "source": [
    "$$K_{i,j} = K(\\phi_i, \\phi_j) $$\n",
    "\n",
    "\n",
    "$$ K(\\phi_i, \\phi_j)  =  exp(- \\frac{\\phi_{i}^T \\cdot \\phi_j}{2\\sigma^2})$$"
   ]
  },
  {
   "cell_type": "code",
   "execution_count": 6,
   "metadata": {},
   "outputs": [],
   "source": [
    "def gaussianKernel(D, sigma):\n",
    "    n = len(D)\n",
    "    K = np.zeros((n, n))\n",
    "    \n",
    "    for i in range (n):\n",
    "        \n",
    "        for j in range (n):\n",
    "            \n",
    "            x = D[i,:]\n",
    "            y = D[j,:]\n",
    "            diff = x - y\n",
    "            K[i][j] = np.exp(- np.dot(diff,diff) / (2*sigma**2))\n",
    "            \n",
    "    return K"
   ]
  },
  {
   "cell_type": "code",
   "execution_count": 7,
   "metadata": {},
   "outputs": [],
   "source": [
    "def gaussianKernelpoint(D,sigma, z):\n",
    "    n = len(D)\n",
    "    K = np.zeros(n)\n",
    "    \n",
    "    for i in range(n):\n",
    "        \n",
    "        x = D[i,:]\n",
    "        diff = x - z\n",
    "        K[i] = np.exp(-np.dot(diff,diff) / (2*sigma**2))\n",
    "        \n",
    "    return np.array([K]).T"
   ]
  },
  {
   "cell_type": "markdown",
   "metadata": {},
   "source": [
    "## Kernel Ridge Regression Algorithm"
   ]
  },
  {
   "cell_type": "markdown",
   "metadata": {},
   "source": [
    "![](kernel_algo.png)\n"
   ]
  },
  {
   "cell_type": "code",
   "execution_count": 8,
   "metadata": {},
   "outputs": [],
   "source": [
    "def kernelRegression(K, Y, alpha):\n",
    "    n = len(K)\n",
    "    K_aug = K + 1\n",
    "    K_alpha = K_aug + np.eye(n) * alpha\n",
    "    K_alpha_inv = np.linalg.inv(K_alpha)\n",
    "    c = np.matmul(K_alpha_inv, Y)\n",
    "    Y_hat = np.matmul(K_aug, c)\n",
    "    Y_hat = Y_hat[:, 0]\n",
    "    \n",
    "    for i in range (n):\n",
    "        if (Y_hat[i] > .5):\n",
    "            Y_hat[i] = 1\n",
    "        else:\n",
    "            Y_hat[i] = 0\n",
    "    return c, np.array([Y_hat]).T"
   ]
  },
  {
   "cell_type": "code",
   "execution_count": 9,
   "metadata": {},
   "outputs": [],
   "source": [
    "def testing(Z, D, c, process, sigma):\n",
    "    n = len(Z)\n",
    "    y_hat = np.zeros(n)\n",
    "    for i in range (n):\n",
    "        z = Z[i,:]\n",
    "        if(process == \"Linear\"):\n",
    "            K = linearKernelpoint(D, z)\n",
    "        elif(process == \"Quadratic\"):\n",
    "            K = quadKernelpoint(D, z)\n",
    "        else:\n",
    "            K = gaussianKernelpoint(D, sigma, z) \n",
    "        \n",
    "        K_aug = K + 1\n",
    "        val = np.matmul(c.T, K_aug)[0][0]\n",
    "        if(val > .5):\n",
    "            y_hat[i] = 1\n",
    "        else:\n",
    "            y_hat[i] = 0\n",
    "            \n",
    "    return np.array([y_hat]).T "
   ]
  },
  {
   "cell_type": "markdown",
   "metadata": {},
   "source": [
    "## Accuracy\n",
    "\n",
    "$$acc = \\frac{\\text{number of cases where,  } \\hat{y}_i = y_i}{n}$$"
   ]
  },
  {
   "cell_type": "code",
   "execution_count": 10,
   "metadata": {},
   "outputs": [],
   "source": [
    "def accuracy(y, y_hat):\n",
    "    y = y[:,0]\n",
    "    y_hat = y_hat[:,0]\n",
    "    count = 0\n",
    "    for i in range(len(y)):\n",
    "        if(y[i] == y_hat[i]):\n",
    "            count = count + 1\n",
    "    \n",
    "    return count/len(y)"
   ]
  },
  {
   "cell_type": "markdown",
   "metadata": {},
   "source": [
    "# Training Set"
   ]
  },
  {
   "cell_type": "code",
   "execution_count": 40,
   "metadata": {},
   "outputs": [
    {
     "name": "stdout",
     "output_type": "stream",
     "text": [
      "Type which kernel desired: Linear, Quadratic, Gaussian\n",
      "Gaussian\n",
      "\n",
      "Choose a sigma value (must be non-zero)\n",
      "1.3\n",
      "\n",
      "Training Accuracy:  0.9259708737864077\n"
     ]
    }
   ],
   "source": [
    "train = np.genfromtxt(\"Concrete_Data_RNorm_Class_train.txt\", delimiter=',')\n",
    "\n",
    "print(\"Type which kernel desired: Linear, Quadratic, Gaussian\")\n",
    "process = input()\n",
    "print()\n",
    "\n",
    "alpha = .001 \n",
    "d = len(train[0])\n",
    "D_train = train[:,np.arange(d-1)]\n",
    "y_train = np.array([train[:,d-1]]).T\n",
    "K = 0\n",
    "\n",
    "if(process == \"Linear\"):\n",
    "    K = linearKernel(D_train)\n",
    "elif(process == \"Quadratic\"):\n",
    "    K = quadKernel(D_train)\n",
    "else:\n",
    "    print(\"Choose a sigma value (must be non-zero)\")\n",
    "    sigma = float(input())\n",
    "    print()\n",
    "    K = gaussianKernel(D_train, sigma) \n",
    "\n",
    "c, y_hat = kernelRegression(K, y_train, alpha)\n",
    "acc = accuracy(y_train, y_hat)\n",
    "print(\"Training Accuracy: \", acc)"
   ]
  },
  {
   "cell_type": "markdown",
   "metadata": {},
   "source": [
    "# Testing Set"
   ]
  },
  {
   "cell_type": "code",
   "execution_count": 41,
   "metadata": {},
   "outputs": [
    {
     "name": "stdout",
     "output_type": "stream",
     "text": [
      "Testing Accuracy:  0.9611650485436893\n"
     ]
    }
   ],
   "source": [
    "test = np.genfromtxt(\"Concrete_Data_RNorm_Class_test.txt\", delimiter=',')    \n",
    "d = len(test[0])\n",
    "D_test = test[:,np.arange(d-1)]\n",
    "y_test = np.array([test[:,d-1]]).T\n",
    "y_hat_test = testing(D_test, D_train, c, process, sigma)\n",
    "acc_test = accuracy(y_test, y_hat_test)\n",
    "print(\"Testing Accuracy: \",acc_test)\n"
   ]
  },
  {
   "cell_type": "markdown",
   "metadata": {},
   "source": [
    "Out of my testing $\\sigma$ = 1.3 which had a testing accurary of .96"
   ]
  }
 ],
 "metadata": {
  "kernelspec": {
   "display_name": "Python 3",
   "language": "python",
   "name": "python3"
  },
  "language_info": {
   "codemirror_mode": {
    "name": "ipython",
    "version": 3
   },
   "file_extension": ".py",
   "mimetype": "text/x-python",
   "name": "python",
   "nbconvert_exporter": "python",
   "pygments_lexer": "ipython3",
   "version": "3.7.0"
  }
 },
 "nbformat": 4,
 "nbformat_minor": 2
}
