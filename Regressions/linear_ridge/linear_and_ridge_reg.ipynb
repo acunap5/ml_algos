{
 "cells": [
  {
   "cell_type": "markdown",
   "metadata": {},
   "source": [
    "# Assignment 2: Linear and Ridge Regression"
   ]
  },
  {
   "cell_type": "code",
   "execution_count": 1,
   "metadata": {},
   "outputs": [],
   "source": [
    "import sys\n",
    "import numpy as np\n",
    "import math\n",
    "import matplotlib.pyplot as plt\n",
    "import random"
   ]
  },
  {
   "cell_type": "code",
   "execution_count": 2,
   "metadata": {},
   "outputs": [],
   "source": [
    "if(sys.argv[2]!= None):\n",
    "    alpha = 1\n",
    "else:\n",
    "    alpha = int(sys.argv[2])"
   ]
  },
  {
   "cell_type": "code",
   "execution_count": 3,
   "metadata": {},
   "outputs": [],
   "source": [
    "def yPrime(y, D):\n",
    "    d = len(D[0])\n",
    "    zeros = np.array([np.zeros(d)]).T\n",
    "    y_prime = np.concatenate((y, zeros))\n",
    "    return y_prime"
   ]
  },
  {
   "cell_type": "code",
   "execution_count": 4,
   "metadata": {},
   "outputs": [],
   "source": [
    "#aug_D creation\n",
    "def augmentedD(D):\n",
    "    n = len(D)\n",
    "    a0 = np.array([np.ones(n)]).T\n",
    "    aug_D = np.hstack((a0,D))\n",
    "    return aug_D"
   ]
  },
  {
   "cell_type": "code",
   "execution_count": 5,
   "metadata": {},
   "outputs": [],
   "source": [
    "#D' creation by concatenating A_sqrt under Aug_D\n",
    "def Dprime(D, alpha):\n",
    "    d = len(D[0])\n",
    "    A_sqrt = math.sqrt(alpha) * np.identity(d)\n",
    "    D_prime = np.concatenate((D, A_sqrt))\n",
    "    return D_prime"
   ]
  },
  {
   "cell_type": "markdown",
   "metadata": {},
   "source": [
    "## Projection\n",
    "Returns the vector below as well as scalar multiple,\n",
    "$$Proj_{\\vec{a}}(\\vec{b}) = \\frac{\\vec{b}^T\\vec{a}}{\\vec{a}^T\\vec{a}}$$ \n",
    "\n"
   ]
  },
  {
   "cell_type": "code",
   "execution_count": 6,
   "metadata": {},
   "outputs": [],
   "source": [
    "def projection(a, b):\n",
    "    num = np.matmul(b.T, a)\n",
    "    den = np.matmul(a.T, a)\n",
    "    proj = num[0][0] / den[0][0]\n",
    "    return proj"
   ]
  },
  {
   "cell_type": "markdown",
   "metadata": {},
   "source": [
    "## QR Factorization"
   ]
  },
  {
   "cell_type": "markdown",
   "metadata": {},
   "source": [
    "$$D = QR =  \\left(\\begin{array}{c} \\vec{u_0} & \\vec{u_1} & ... &  \\vec{u_d} \\end{array}\\right) \n",
    "\\left(\\begin{array}{cc} \n",
    "1 & P_{10} & ... & P_{d0}\\\\ \n",
    "0 & 1 & P_{21} & ...\\\\\n",
    "0 & 0 & 1 & ...\\\\\n",
    "\\end{array}\\right)$$"
   ]
  },
  {
   "cell_type": "code",
   "execution_count": 7,
   "metadata": {},
   "outputs": [],
   "source": [
    "def qr(D):\n",
    "    \n",
    "    d = len(D[1])\n",
    "    n = len(D)\n",
    "    Q = np.array([np.zeros(n)]).T\n",
    "    R = np.zeros(shape=(d,d))\n",
    "    \n",
    "    for i in range(d):\n",
    "        \n",
    "        #make diagonal 1's\n",
    "        R[i][i] = 1\n",
    "        \n",
    "        if(i == 0):\n",
    "            Q = np.array([D[:,i]]).T\n",
    "        else:\n",
    "            u = np.array([D[:,i]]).T\n",
    "        for j in range(i):\n",
    "            if (i > 0):\n",
    "                x = np.array([D[:, i]]).T\n",
    "                y = np.array([Q[:,j]]).T\n",
    "                proj = projection(y, x)\n",
    "                R[j][i] = proj\n",
    "                u = u - proj * np.array([Q[:,j]]).T\n",
    "        if(i != 0):\n",
    "            Q = np.hstack((Q,u))\n",
    "        \n",
    "    return Q, R"
   ]
  },
  {
   "cell_type": "code",
   "execution_count": 8,
   "metadata": {},
   "outputs": [],
   "source": [
    "def weights(Q, R, y):\n",
    "    Delta = np.matmul(Q.T, Q)\n",
    "    d = len(R[0])\n",
    "    Delta_inverse = np.zeros((d,d))\n",
    "    n = len(Q)\n",
    "    w = np.zeros(d)\n",
    "    \n",
    "    for i in range(d):\n",
    "        Delta_inverse[i][i] = 1 / Delta[i][i]\n",
    "\n",
    "    B = np.matmul( np.matmul( Delta_inverse, Q.T ) ,  y )\n",
    "    B = B[:,0]\n",
    "    \n",
    "    for i in range(d - 1, -1, -1):\n",
    "        w[i] = B[i]\n",
    "        for j in range(d - 1, i, -1):\n",
    "            w[i] = w[i] - R[i][j] * w[j]\n",
    "            \n",
    "    return w   "
   ]
  },
  {
   "cell_type": "markdown",
   "metadata": {},
   "source": [
    "### $$SSE = \\sum_i(\\hat{y_i} - y_i)^2 $$"
   ]
  },
  {
   "cell_type": "code",
   "execution_count": 9,
   "metadata": {},
   "outputs": [],
   "source": [
    "def SSE(D, w, y):\n",
    "    SSE = 0\n",
    "    y_hat = np.matmul(D, w)\n",
    "    y_hat = y_hat[:, 0]\n",
    "    y = y[:, 0]\n",
    "    for i in range(len(y)):\n",
    "        SSE = SSE + (y_hat[i] - y[i])**2\n",
    "    return SSE"
   ]
  },
  {
   "cell_type": "markdown",
   "metadata": {},
   "source": [
    "### $$TSS = \\sum_i (y_i - \\mu_y)^2$$"
   ]
  },
  {
   "cell_type": "code",
   "execution_count": 10,
   "metadata": {},
   "outputs": [],
   "source": [
    "def TSS(y):\n",
    "    y = y[:, 0]\n",
    "    mean = 0\n",
    "    tss = 0\n",
    "    \n",
    "    for i in range(len(y)):\n",
    "        mean = mean + y[i]\n",
    "    \n",
    "    mean = mean / len(y)\n",
    "    \n",
    "    for i in range(len(y)):\n",
    "        tss = tss + (y[i] - mean)**2\n",
    "    \n",
    "    return tss"
   ]
  },
  {
   "cell_type": "markdown",
   "metadata": {},
   "source": [
    "### $$R^2 = \\frac{TSS - SSE}{TSS}$$"
   ]
  },
  {
   "cell_type": "code",
   "execution_count": 11,
   "metadata": {},
   "outputs": [],
   "source": [
    "def rSq(D, w, y):\n",
    "    sse = SSE(D,w, y)\n",
    "    tss = TSS(y)\n",
    "    rSq = (tss - sse)/tss\n",
    "    return rSq"
   ]
  },
  {
   "cell_type": "code",
   "execution_count": null,
   "metadata": {},
   "outputs": [],
   "source": []
  },
  {
   "cell_type": "markdown",
   "metadata": {},
   "source": [
    "# Training Set"
   ]
  },
  {
   "cell_type": "code",
   "execution_count": 12,
   "metadata": {},
   "outputs": [
    {
     "name": "stdout",
     "output_type": "stream",
     "text": [
      "w = \n",
      " [[-16.42099957]\n",
      " [  0.55562408]\n",
      " [  0.08770576]\n",
      " [  0.08448248]\n",
      " [  0.01795393]\n",
      " [  0.0694564 ]\n",
      " [ -1.45122988]\n",
      " [  0.02004223]\n",
      " [  1.34604054]\n",
      " [ -0.62596433]\n",
      " [  0.96931524]\n",
      " [ -0.07322793]]\n",
      "L_2 norm of w =  275.23298185101316\n",
      "Training SSE =  43044046.59776054\n",
      "Training R^2 =  0.8337862069671329\n"
     ]
    }
   ],
   "source": [
    "if(sys.argv[0]!= None):\n",
    "    train = np.genfromtxt(\"Wanshouxigong.txt\", delimiter=',')\n",
    "else:\n",
    "    train = np.genfromtxt(sys.argv[0], delimiter=',')\n",
    "\n",
    "d = len(train[0])\n",
    "D_train = train[:,np.arange(d-1)]\n",
    "D_aug_train = augmentedD(D_train)\n",
    "D_prime_train = Dprime(D_aug_train, alpha)\n",
    "y_train = np.array([train[:,d-1]]).T\n",
    "y_prime_train = yPrime(y_train, D_prime_train)\n",
    "\n",
    "Q, R = qr(D_prime_train)\n",
    "w = np.array([weights(Q, R, y_prime_train)]).T\n",
    "print(\"w = \\n\", w)\n",
    "l2_w = np.matmul(w.T, w)[0][0]\n",
    "print(\"L_2 norm of w = \", l2_w)\n",
    "train_sse = SSE(D_aug_train, w, y_train)\n",
    "train_r2 = rSq(D_aug_train, w, y_train)\n",
    "print(\"Training SSE = \", train_sse)\n",
    "print(\"Training R^2 = \", train_r2)"
   ]
  },
  {
   "cell_type": "markdown",
   "metadata": {},
   "source": [
    "# Testing Set"
   ]
  },
  {
   "cell_type": "code",
   "execution_count": 13,
   "metadata": {},
   "outputs": [
    {
     "name": "stdout",
     "output_type": "stream",
     "text": [
      "Testing SSE =  42279895.566565596\n",
      "Testing R^2 =  0.8203032812408623\n"
     ]
    }
   ],
   "source": [
    "if(sys.argv[1]!= None):\n",
    "    test = np.genfromtxt(\"Wanliu.txt\", delimiter=',')\n",
    "else:\n",
    "    test = np.genfromtxt(sys.argv[1], delimiter=',')\n",
    "d = len(test[0])\n",
    "D_test = test[:,np.arange(d-1)]\n",
    "D_aug_test = augmentedD(D_test)\n",
    "\n",
    "y_test = np.array([test[:,d-1]]).T\n",
    "\n",
    "\n",
    "train_sse = SSE(D_aug_test, w, y_test)\n",
    "train_r2 = rSq(D_aug_test, w, y_test)\n",
    "print(\"Testing SSE = \", train_sse)\n",
    "print(\"Testing R^2 = \", train_r2)"
   ]
  },
  {
   "cell_type": "markdown",
   "metadata": {},
   "source": [
    "# Varying $\\alpha$"
   ]
  },
  {
   "cell_type": "code",
   "execution_count": 14,
   "metadata": {},
   "outputs": [
    {
     "data": {
      "image/png": "[encoded data removed]",
      "text/plain": [
       "<Figure size 432x288 with 1 Axes>"
      ]
     },
     "metadata": {
      "needs_background": "light"
     },
     "output_type": "display_data"
    }
   ],
   "source": [
    "max_alpha = 100\n",
    "alpha_range = []\n",
    "weight = w\n",
    "n = len(weight)\n",
    "for a in range(max_alpha):\n",
    "    if(a != 0):\n",
    "        alpha_range.append(a)\n",
    "        D_prime_train = Dprime(D_aug_train, a)\n",
    "        y_train = np.array([train[:,d-1]]).T\n",
    "        y_prime_train = yPrime(y_train, D_prime_train)\n",
    "        Q, R = qr(D_prime_train)\n",
    "        w_new = np.array([weights(Q, R, y_prime_train)]).T\n",
    "        weight = np.hstack((weight, w_new))\n",
    "\n",
    "weight = weight[:,np.arange(1, len(weight[0]))]\n",
    "for i in range(n):\n",
    "    \n",
    "    plt.plot(alpha_range, weight[i,:])\n",
    "    plt.xlabel(\"alpha\")\n",
    "    plt.ylabel(\"weights\")\n",
    "    plt.title(\"Ridge Regressions Weights\")\n",
    "\n",
    "\n",
    "plt.show()\n"
   ]
  },
  {
   "cell_type": "markdown",
   "metadata": {},
   "source": [
    "# They all stay around the same for their weights excepts for the $w_0$ weight which drops quickly as alpha goes to infinity"
   ]
  },
  {
   "cell_type": "code",
   "execution_count": null,
   "metadata": {},
   "outputs": [],
   "source": []
  },
  {
   "cell_type": "code",
   "execution_count": null,
   "metadata": {},
   "outputs": [],
   "source": []
  },
  {
   "cell_type": "code",
   "execution_count": null,
   "metadata": {},
   "outputs": [],
   "source": []
  }
 ],
 "metadata": {
  "kernelspec": {
   "display_name": "Python 3",
   "language": "python",
   "name": "python3"
  },
  "language_info": {
   "codemirror_mode": {
    "name": "ipython",
    "version": 3
   },
   "file_extension": ".py",
   "mimetype": "text/x-python",
   "name": "python",
   "nbconvert_exporter": "python",
   "pygments_lexer": "ipython3",
   "version": "3.7.0"
  }
 },
 "nbformat": 4,
 "nbformat_minor": 2
}
